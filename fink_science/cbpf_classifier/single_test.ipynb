{
 "cells": [
  {
   "cell_type": "code",
   "execution_count": 9,
   "id": "9bf0878b-e9ed-4693-8a47-9969e969eb92",
   "metadata": {},
   "outputs": [],
   "source": [
    "from pyspark.sql import SparkSession\n",
    "import numpy as np\n",
    "import pandas as pd\n",
    "\n",
    "from pyspark.sql.functions import pandas_udf, PandasUDFType\n",
    "from pyspark.sql.types import DoubleType, IntegerType, StringType\n",
    "import warnings\n",
    "\n",
    "warnings.filterwarnings('ignore')"
   ]
  },
  {
   "cell_type": "code",
   "execution_count": 10,
   "id": "fb5b76ad-516f-4e06-a76c-f1d7af9fc4b6",
   "metadata": {},
   "outputs": [],
   "source": [
    "spark = (SparkSession\n",
    "         .builder\n",
    "         .getOrCreate()\n",
    "        )"
   ]
  },
  {
   "cell_type": "code",
   "execution_count": 11,
   "id": "20bbff09-cdea-4c8e-b9f6-b6ebfe4a412d",
   "metadata": {},
   "outputs": [],
   "source": [
    "DATA_DIR='/home/data/phd/research_projects/fink_science/fink_science/cbpf_classifier/data/alerts/'\n",
    "df = (spark\n",
    "         .read\n",
    "         .format('parquet')\n",
    "         .load(DATA_DIR+'small_sample.parquet')\n",
    "     )"
   ]
  },
  {
   "cell_type": "code",
   "execution_count": 12,
   "id": "180c3ab5-0853-4ada-8312-0537b123b2a5",
   "metadata": {},
   "outputs": [],
   "source": [
    "df_change = df.select(\n",
    "        df.diaSource.midpointTai,\n",
    "        df.diaSource.filterName,\n",
    "        df.diaSource.psFlux,\n",
    "        df.diaSource.psFluxErr,\n",
    "        df.diaObject.mwebv,\n",
    "        df.diaObject.z_final,\n",
    "        df.diaObject.z_final_err,\n",
    "        df.diaObject.hostgal_zphot,\n",
    "        df.diaObject.hostgal_zphot_err)"
   ]
  },
  {
   "cell_type": "code",
   "execution_count": 13,
   "id": "aa340d5f-2445-4e6e-b54b-ab98923f3705",
   "metadata": {
    "tags": []
   },
   "outputs": [],
   "source": [
    "df_data = (df_change\n",
    "    .withColumnRenamed(\"diaSource.midpointTai\", \"midpointTai\")\n",
    "    .withColumnRenamed(\"diaSource.midpointTai\", \"midpointTai\")\n",
    "    .withColumnRenamed(\"diaSource.filterName\", \"filterName\")\n",
    "    .withColumnRenamed(\"diaSource.psFlux\", \"psFlux\")\n",
    "    .withColumnRenamed(\"diaSource.psFluxErr\", \"psFluxErr\")\n",
    "    .withColumnRenamed(\"diaObject.mwebv\", \"mwebv\")\n",
    "    .withColumnRenamed(\"diaObject.z_final\", \"z_final\")\n",
    "    .withColumnRenamed(\"diaObject.z_final_err\", \"z_final_err\")\n",
    "    .withColumnRenamed(\"diaObject.hostgal_zphot\", \"hostgal_zphot\")\n",
    "    .withColumnRenamed(\"diaObject.hostgal_zphot_err\", \"hostgal_zphot_err\")\n",
    ")"
   ]
  },
  {
   "cell_type": "code",
   "execution_count": 14,
   "id": "65aa8969-9c7b-4e3c-8e9f-c17bd14cf7e1",
   "metadata": {},
   "outputs": [
    {
     "name": "stdout",
     "output_type": "stream",
     "text": [
      "+-----------+----------+-----------------+------------------+--------------------+-------------------+--------------------+-------------------+--------------------+\n",
      "|midpointTai|filterName|           psFlux|         psFluxErr|               mwebv|            z_final|         z_final_err|      hostgal_zphot|   hostgal_zphot_err|\n",
      "+-----------+----------+-----------------+------------------+--------------------+-------------------+--------------------+-------------------+--------------------+\n",
      "| 61125.1297|         z|  32415.529296875|  926.963134765625| 0.09092952311038971|               -9.0|                -9.0|               -9.0|                -9.0|\n",
      "| 61125.1456|         z|       28024.9375| 535.8877563476562| 0.06947284936904907|0.08547317981719971| 0.02944999933242798|0.08547317981719971| 0.02944999933242798|\n",
      "| 61125.1465|         z| 6534.21923828125| 1155.543701171875| 0.04673771560192108|               -9.0|                -9.0|               -9.0|                -9.0|\n",
      "| 61125.2011|         i|494.1522521972656|  280.017333984375|0.022862380370497704|0.12899985909461975|0.030629999935626984|0.12899985909461975|0.030629999935626984|\n",
      "| 61125.2301|         g|815.7875366210938|109.06170654296875| 0.06075121834874153|  0.967526376247406| 0.05358000099658966|  0.967526376247406| 0.05358000099658966|\n",
      "| 61125.2393|         g|    6045.98046875|  506.418212890625| 0.10580314695835114|               -9.0|                -9.0|               -9.0|                -9.0|\n",
      "| 61125.2591|         r|2052.062744140625|197.06195068359375| 0.09976872056722641|0.23795980215072632|0.033070001751184464|0.23795980215072632|0.033070001751184464|\n",
      "| 61125.2694|         r| 2768.23193359375| 179.9868927001953| 0.08503466844558716| 0.9621579051017761| 0.05217999964952469| 0.9621579051017761| 0.05217999964952469|\n",
      "| 61125.2748|         r|1716.821533203125| 224.0838165283203| 0.03691619634628296|  1.587335467338562| 0.06996999680995941|  1.587335467338562| 0.06996999680995941|\n",
      "| 61125.2861|         r| 3816.04248046875|178.77310180664062| 0.05542277917265892|0.47472092509269714|0.040070001035928726|0.47472092509269714|0.040070001035928726|\n",
      "+-----------+----------+-----------------+------------------+--------------------+-------------------+--------------------+-------------------+--------------------+\n",
      "\n"
     ]
    }
   ],
   "source": [
    "df_data.show()"
   ]
  },
  {
   "cell_type": "code",
   "execution_count": 15,
   "id": "033d3da7-d262-42a8-8912-6e3ae4a20aa9",
   "metadata": {},
   "outputs": [],
   "source": [
    "def normalize_lc(lc_array: np.array) -> np.array:\n",
    "    \"\"\"\n",
    "    Normalize light curves.\n",
    "\n",
    "    Parameters:\n",
    "    ----------\n",
    "    lc_array: 1D np.array\n",
    "        Input light curve of an alert.\n",
    "        \n",
    "    Returns:\n",
    "    --------\n",
    "    result: np.array\n",
    "        normalized light curve of an alert.\n",
    "    \"\"\"\n",
    "\n",
    "    result = np.zeros((lc_array.shape[0],))\n",
    "    result[:] = lc_array[:]\n",
    "    result[:] -= lc_array[0]\n",
    "\n",
    "    norm = (lc_array[:] - np.min(lc_array[:])) / np.ptp(lc_array[:])\n",
    "    result[:] = norm\n",
    "\n",
    "    return result"
   ]
  },
  {
   "cell_type": "code",
   "execution_count": 17,
   "id": "4b7da6b5-f3fb-4280-9ca9-3381399a7104",
   "metadata": {},
   "outputs": [],
   "source": [
    "def apply_filter_name(filter_name: pd.Series) -> pd.Series:\n",
    "    filter_dict = {'u':1, 'g':2, 'r':3, 'i':4, 'z':5, 'Y':6}\n",
    "    if len(filter_name) < 10:\n",
    "    \n",
    "        filter_name = filter_name.copy()\n",
    "        filter_name.map(filter_dict)\n",
    "    \n",
    "    else:\n",
    "        nfilter_name = filter_name\n",
    "        \n",
    "    return pd.Series(filter_name)"
   ]
  },
  {
   "cell_type": "code",
   "execution_count": 18,
   "id": "3d8d2daa-ec6f-4c97-8c7f-f066f92a54da",
   "metadata": {},
   "outputs": [],
   "source": [
    "@pandas_udf(DoubleType(), PandasUDFType.SCALAR)\n",
    "def predict_nn(\n",
    "        midpointTai: pd.Series, psFlux: pd.Series, psFluxErr: pd.Series,\n",
    "        filterName: pd.Series,\n",
    "        mwebv: pd.Series, z_final: pd.Series,\n",
    "        z_final_err: pd.Series, hostgal_zphot: pd.Series,\n",
    "        hostgal_zphot_err: pd.Series\n",
    "    ) -> pd.Series:\n",
    "    \n",
    "    \"\"\"\n",
    "    Return predctions from a model given inputs as pd.Series\n",
    "\n",
    "    Parameters:\n",
    "    -----------\n",
    "    midpointTai: spark DataFrame Column\n",
    "        SNID JD Time (float)\n",
    "    psFlux: spark DataFrame Column\n",
    "        flux from LSST (float)\n",
    "    psFluxErr: spark DataFrame Column\n",
    "        flux error from LSST (float)\n",
    "    filterName:\n",
    "        (string)\n",
    "    mwebv:\n",
    "        (float)\n",
    "    z_final: spark DataFrame Column\n",
    "        redshift of a given event (float)\n",
    "    z_final_err: spark DataFrame Column\n",
    "        redshift error of a given event (float)       \n",
    "    hostgal_zphot: spark DataFrame Column\n",
    "        photometric redshift of host galaxy (float)\n",
    "    hostgal_zphot_err: spark DataFrame Column\n",
    "        error in photometric redshift of host galaxy (float)\n",
    "    Returns:\n",
    "    --------\n",
    "    preds: pd.Series\n",
    "        predictions of a broad class in an pd.Series format (pd.Series[float])\n",
    "    \"\"\"\n",
    "    bands = []\n",
    "    lcs = []\n",
    "    meta = []\n",
    "\n",
    "    filterName = apply_filter_name(filterName)\n",
    "    #new_midpointTai = normalize_light_curve(midpointTai)\n",
    "    \n",
    "    \n",
    "    return pd.Series(filterName)"
   ]
  },
  {
   "cell_type": "code",
   "execution_count": 22,
   "id": "e0da773b-9b7d-4860-aea7-72cf960b7b26",
   "metadata": {},
   "outputs": [
    {
     "name": "stdout",
     "output_type": "stream",
     "text": [
      "+-----------+----------+-----------------+------------------+--------------------+-------------------+--------------------+-------------------+--------------------+-------------+\n",
      "|midpointTai|filterName|           psFlux|         psFluxErr|               mwebv|            z_final|         z_final_err|      hostgal_zphot|   hostgal_zphot_err|mapFilterName|\n",
      "+-----------+----------+-----------------+------------------+--------------------+-------------------+--------------------+-------------------+--------------------+-------------+\n",
      "| 61125.1297|         z|  32415.529296875|  926.963134765625| 0.09092952311038971|               -9.0|                -9.0|               -9.0|                -9.0|         null|\n",
      "| 61125.1456|         z|       28024.9375| 535.8877563476562| 0.06947284936904907|0.08547317981719971| 0.02944999933242798|0.08547317981719971| 0.02944999933242798|         null|\n",
      "| 61125.1465|         z| 6534.21923828125| 1155.543701171875| 0.04673771560192108|               -9.0|                -9.0|               -9.0|                -9.0|         null|\n",
      "| 61125.2011|         i|494.1522521972656|  280.017333984375|0.022862380370497704|0.12899985909461975|0.030629999935626984|0.12899985909461975|0.030629999935626984|         null|\n",
      "| 61125.2301|         g|815.7875366210938|109.06170654296875| 0.06075121834874153|  0.967526376247406| 0.05358000099658966|  0.967526376247406| 0.05358000099658966|         null|\n",
      "| 61125.2393|         g|    6045.98046875|  506.418212890625| 0.10580314695835114|               -9.0|                -9.0|               -9.0|                -9.0|         null|\n",
      "| 61125.2591|         r|2052.062744140625|197.06195068359375| 0.09976872056722641|0.23795980215072632|0.033070001751184464|0.23795980215072632|0.033070001751184464|         null|\n",
      "| 61125.2694|         r| 2768.23193359375| 179.9868927001953| 0.08503466844558716| 0.9621579051017761| 0.05217999964952469| 0.9621579051017761| 0.05217999964952469|         null|\n",
      "| 61125.2748|         r|1716.821533203125| 224.0838165283203| 0.03691619634628296|  1.587335467338562| 0.06996999680995941|  1.587335467338562| 0.06996999680995941|         null|\n",
      "| 61125.2861|         r| 3816.04248046875|178.77310180664062| 0.05542277917265892|0.47472092509269714|0.040070001035928726|0.47472092509269714|0.040070001035928726|         null|\n",
      "+-----------+----------+-----------------+------------------+--------------------+-------------------+--------------------+-------------------+--------------------+-------------+\n",
      "\n"
     ]
    }
   ],
   "source": [
    "df_data.withColumn('mapFilterName', df_data.filterName).show()\n"
   ]
  },
  {
   "cell_type": "code",
   "execution_count": null,
   "id": "0732422e-8711-48fd-b52a-9cf2fa0f4f9a",
   "metadata": {},
   "outputs": [],
   "source": []
  }
 ],
 "metadata": {
  "kernelspec": {
   "display_name": "Python 3 (ipykernel)",
   "language": "python",
   "name": "python3"
  },
  "language_info": {
   "codemirror_mode": {
    "name": "ipython",
    "version": 3
   },
   "file_extension": ".py",
   "mimetype": "text/x-python",
   "name": "python",
   "nbconvert_exporter": "python",
   "pygments_lexer": "ipython3",
   "version": "3.7.13"
  }
 },
 "nbformat": 4,
 "nbformat_minor": 5
}
