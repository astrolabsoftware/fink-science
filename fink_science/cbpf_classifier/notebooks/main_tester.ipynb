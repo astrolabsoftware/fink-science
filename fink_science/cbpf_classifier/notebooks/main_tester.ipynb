{
 "cells": [
  {
   "cell_type": "code",
   "execution_count": 3,
   "id": "43c75381-9ebe-4e12-bc71-84ea9b7951f0",
   "metadata": {},
   "outputs": [],
   "source": [
    "from utilities import normalize_lc\n",
    "from processor import predict_nn"
   ]
  },
  {
   "cell_type": "code",
   "execution_count": 5,
   "id": "cfc43cf7-bbf3-46ac-a2ed-f569131b6401",
   "metadata": {},
   "outputs": [],
   "source": [
    "from pyspark.sql import SparkSession"
   ]
  },
  {
   "cell_type": "code",
   "execution_count": 7,
   "id": "7746c9a3-a3a5-4dfe-b5e9-2918d59b2698",
   "metadata": {},
   "outputs": [
    {
     "name": "stderr",
     "output_type": "stream",
     "text": [
      "22/09/04 18:08:53 WARN Utils: Your hostname, andre-PC resolves to a loopback address: 127.0.1.1; using 192.168.100.55 instead (on interface eno1)\n",
      "22/09/04 18:08:53 WARN Utils: Set SPARK_LOCAL_IP if you need to bind to another address\n",
      "22/09/04 18:08:53 WARN NativeCodeLoader: Unable to load native-hadoop library for your platform... using builtin-java classes where applicable\n",
      "Using Spark's default log4j profile: org/apache/spark/log4j-defaults.properties\n",
      "Setting default log level to \"WARN\".\n",
      "To adjust logging level use sc.setLogLevel(newLevel). For SparkR, use setLogLevel(newLevel).\n"
     ]
    }
   ],
   "source": [
    "spark = (SparkSession\n",
    "         .builder\n",
    "         .getOrCreate())"
   ]
  },
  {
   "cell_type": "code",
   "execution_count": 8,
   "id": "cb80f55a-66c5-4797-b8d1-4260b9283293",
   "metadata": {},
   "outputs": [
    {
     "name": "stderr",
     "output_type": "stream",
     "text": [
      "22/09/04 18:10:38 WARN Utils: Truncated the string representation of a plan since it was too large. This behavior can be adjusted by setting 'spark.debug.maxToStringFields' in SparkEnv.conf.\n"
     ]
    }
   ],
   "source": [
    "df = (spark\n",
    "         .read\n",
    "         .format('parquet')\n",
    "         .load('../cbpf_classifier/data/alerts/part-00000-c1d37f00-5125-44ed-95d3-169d6b7395c3-c000.snappy.parquet')\n",
    "     )"
   ]
  },
  {
   "cell_type": "code",
   "execution_count": 9,
   "id": "2b7be80a-d2e2-4b3e-9a36-bd9930467c79",
   "metadata": {},
   "outputs": [
    {
     "name": "stdout",
     "output_type": "stream",
     "text": [
      "root\n",
      " |-- alertId: long (nullable = true)\n",
      " |-- diaSource: struct (nullable = true)\n",
      " |    |-- diaSourceId: long (nullable = true)\n",
      " |    |-- ccdVisitId: long (nullable = true)\n",
      " |    |-- diaObjectId: long (nullable = true)\n",
      " |    |-- parentDiaSourceId: long (nullable = true)\n",
      " |    |-- midPointTai: double (nullable = true)\n",
      " |    |-- filterName: string (nullable = true)\n",
      " |    |-- ra: double (nullable = true)\n",
      " |    |-- decl: double (nullable = true)\n",
      " |    |-- psFlux: float (nullable = true)\n",
      " |    |-- psFluxErr: float (nullable = true)\n",
      " |    |-- snr: float (nullable = true)\n",
      " |    |-- nobs: float (nullable = true)\n",
      " |-- prvDiaSources: array (nullable = true)\n",
      " |    |-- element: struct (containsNull = true)\n",
      " |    |    |-- diaSourceId: long (nullable = true)\n",
      " |    |    |-- ccdVisitId: long (nullable = true)\n",
      " |    |    |-- diaObjectId: long (nullable = true)\n",
      " |    |    |-- parentDiaSourceId: long (nullable = true)\n",
      " |    |    |-- midPointTai: double (nullable = true)\n",
      " |    |    |-- filterName: string (nullable = true)\n",
      " |    |    |-- ra: double (nullable = true)\n",
      " |    |    |-- decl: double (nullable = true)\n",
      " |    |    |-- psFlux: float (nullable = true)\n",
      " |    |    |-- psFluxErr: float (nullable = true)\n",
      " |    |    |-- snr: float (nullable = true)\n",
      " |    |    |-- nobs: float (nullable = true)\n",
      " |-- prvDiaForcedSources: array (nullable = true)\n",
      " |    |-- element: struct (containsNull = true)\n",
      " |    |    |-- diaForcedSourceId: long (nullable = true)\n",
      " |    |    |-- ccdVisitId: long (nullable = true)\n",
      " |    |    |-- diaObjectId: long (nullable = true)\n",
      " |    |    |-- midPointTai: double (nullable = true)\n",
      " |    |    |-- filterName: string (nullable = true)\n",
      " |    |    |-- psFlux: float (nullable = true)\n",
      " |    |    |-- psFluxErr: float (nullable = true)\n",
      " |    |    |-- totFlux: float (nullable = true)\n",
      " |    |    |-- totFluxErr: float (nullable = true)\n",
      " |-- prvDiaNondetectionLimits: array (nullable = true)\n",
      " |    |-- element: struct (containsNull = true)\n",
      " |    |    |-- ccdVisitId: long (nullable = true)\n",
      " |    |    |-- midPointTai: double (nullable = true)\n",
      " |    |    |-- filterName: string (nullable = true)\n",
      " |    |    |-- diaNoise: float (nullable = true)\n",
      " |-- diaObject: struct (nullable = true)\n",
      " |    |-- diaObjectId: long (nullable = true)\n",
      " |    |-- simVersion: string (nullable = true)\n",
      " |    |-- ra: double (nullable = true)\n",
      " |    |-- decl: double (nullable = true)\n",
      " |    |-- mwebv: float (nullable = true)\n",
      " |    |-- mwebv_err: float (nullable = true)\n",
      " |    |-- z_final: float (nullable = true)\n",
      " |    |-- z_final_err: float (nullable = true)\n",
      " |    |-- hostgal_ellipticity: float (nullable = true)\n",
      " |    |-- hostgal_sqradius: float (nullable = true)\n",
      " |    |-- hostgal_zspec: float (nullable = true)\n",
      " |    |-- hostgal_zspec_err: float (nullable = true)\n",
      " |    |-- hostgal_zphot: float (nullable = true)\n",
      " |    |-- hostgal_zphot_err: float (nullable = true)\n",
      " |    |-- hostgal_zphot_q000: float (nullable = true)\n",
      " |    |-- hostgal_zphot_q010: float (nullable = true)\n",
      " |    |-- hostgal_zphot_q020: float (nullable = true)\n",
      " |    |-- hostgal_zphot_q030: float (nullable = true)\n",
      " |    |-- hostgal_zphot_q040: float (nullable = true)\n",
      " |    |-- hostgal_zphot_q050: float (nullable = true)\n",
      " |    |-- hostgal_zphot_q060: float (nullable = true)\n",
      " |    |-- hostgal_zphot_q070: float (nullable = true)\n",
      " |    |-- hostgal_zphot_q080: float (nullable = true)\n",
      " |    |-- hostgal_zphot_q090: float (nullable = true)\n",
      " |    |-- hostgal_zphot_q100: float (nullable = true)\n",
      " |    |-- hostgal_zphot_p50: float (nullable = true)\n",
      " |    |-- hostgal_mag_u: float (nullable = true)\n",
      " |    |-- hostgal_mag_g: float (nullable = true)\n",
      " |    |-- hostgal_mag_r: float (nullable = true)\n",
      " |    |-- hostgal_mag_i: float (nullable = true)\n",
      " |    |-- hostgal_mag_z: float (nullable = true)\n",
      " |    |-- hostgal_mag_Y: float (nullable = true)\n",
      " |    |-- hostgal_ra: float (nullable = true)\n",
      " |    |-- hostgal_dec: float (nullable = true)\n",
      " |    |-- hostgal_snsep: float (nullable = true)\n",
      " |    |-- hostgal_magerr_u: float (nullable = true)\n",
      " |    |-- hostgal_magerr_g: float (nullable = true)\n",
      " |    |-- hostgal_magerr_r: float (nullable = true)\n",
      " |    |-- hostgal_magerr_i: float (nullable = true)\n",
      " |    |-- hostgal_magerr_z: float (nullable = true)\n",
      " |    |-- hostgal_magerr_Y: float (nullable = true)\n",
      " |    |-- hostgal2_ellipticity: float (nullable = true)\n",
      " |    |-- hostgal2_sqradius: float (nullable = true)\n",
      " |    |-- hostgal2_zspec: float (nullable = true)\n",
      " |    |-- hostgal2_zspec_err: float (nullable = true)\n",
      " |    |-- hostgal2_zphot: float (nullable = true)\n",
      " |    |-- hostgal2_zphot_err: float (nullable = true)\n",
      " |    |-- hostgal2_zphot_q000: float (nullable = true)\n",
      " |    |-- hostgal2_zphot_q010: float (nullable = true)\n",
      " |    |-- hostgal2_zphot_q020: float (nullable = true)\n",
      " |    |-- hostgal2_zphot_q030: float (nullable = true)\n",
      " |    |-- hostgal2_zphot_q040: float (nullable = true)\n",
      " |    |-- hostgal2_zphot_q050: float (nullable = true)\n",
      " |    |-- hostgal2_zphot_q060: float (nullable = true)\n",
      " |    |-- hostgal2_zphot_q070: float (nullable = true)\n",
      " |    |-- hostgal2_zphot_q080: float (nullable = true)\n",
      " |    |-- hostgal2_zphot_q090: float (nullable = true)\n",
      " |    |-- hostgal2_zphot_q100: float (nullable = true)\n",
      " |    |-- hostgal2_zphot_p50: float (nullable = true)\n",
      " |    |-- hostgal2_mag_u: float (nullable = true)\n",
      " |    |-- hostgal2_mag_g: float (nullable = true)\n",
      " |    |-- hostgal2_mag_r: float (nullable = true)\n",
      " |    |-- hostgal2_mag_i: float (nullable = true)\n",
      " |    |-- hostgal2_mag_z: float (nullable = true)\n",
      " |    |-- hostgal2_mag_Y: float (nullable = true)\n",
      " |    |-- hostgal2_ra: float (nullable = true)\n",
      " |    |-- hostgal2_dec: float (nullable = true)\n",
      " |    |-- hostgal2_snsep: float (nullable = true)\n",
      " |    |-- hostgal2_magerr_u: float (nullable = true)\n",
      " |    |-- hostgal2_magerr_g: float (nullable = true)\n",
      " |    |-- hostgal2_magerr_r: float (nullable = true)\n",
      " |    |-- hostgal2_magerr_i: float (nullable = true)\n",
      " |    |-- hostgal2_magerr_z: float (nullable = true)\n",
      " |    |-- hostgal2_magerr_Y: float (nullable = true)\n",
      " |-- cutoutDifference: binary (nullable = true)\n",
      " |-- cutoutTemplate: binary (nullable = true)\n",
      " |-- brokerIngestTimestamp: timestamp (nullable = true)\n",
      " |-- timestamp: timestamp (nullable = true)\n",
      " |-- year: integer (nullable = true)\n",
      " |-- month: integer (nullable = true)\n",
      " |-- day: integer (nullable = true)\n",
      "\n"
     ]
    }
   ],
   "source": [
    "df.printSchema()"
   ]
  },
  {
   "cell_type": "code",
   "execution_count": 11,
   "id": "59436559-71b3-44d9-a509-9d1cf7f76275",
   "metadata": {},
   "outputs": [
    {
     "name": "stdout",
     "output_type": "stream",
     "text": [
      "+-----------+\n",
      "|    alertID|\n",
      "+-----------+\n",
      "| 8124896327|\n",
      "| 3433966117|\n",
      "|35972962291|\n",
      "|35133534095|\n",
      "|29176058017|\n",
      "| 4719186160|\n",
      "|28848184011|\n",
      "|28375684014|\n",
      "| 6268070104|\n",
      "| 5483494077|\n",
      "|21550978083|\n",
      "|17796360094|\n",
      "|24653744088|\n",
      "| 7573438058|\n",
      "| 7625430009|\n",
      "|14248944194|\n",
      "|17759472247|\n",
      "|17417974113|\n",
      "|26921156009|\n",
      "|21262652013|\n",
      "+-----------+\n",
      "only showing top 20 rows\n",
      "\n"
     ]
    }
   ],
   "source": [
    "df.select(\"* FROM ps).show()"
   ]
  }
 ],
 "metadata": {
  "kernelspec": {
   "display_name": "Python 3 (ipykernel)",
   "language": "python",
   "name": "python3"
  },
  "language_info": {
   "codemirror_mode": {
    "name": "ipython",
    "version": 3
   },
   "file_extension": ".py",
   "mimetype": "text/x-python",
   "name": "python",
   "nbconvert_exporter": "python",
   "pygments_lexer": "ipython3",
   "version": "3.7.13"
  }
 },
 "nbformat": 4,
 "nbformat_minor": 5
}
