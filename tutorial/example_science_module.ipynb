{
 "cells": [
  {
   "cell_type": "markdown",
   "metadata": {},
   "source": [
    "# Science modules in Fink: an example\n",
    "\n",
    "A science module contains necessary routines and classes to process the data, and add values. Typically, you will receive alerts in input, and output the same alerts with additional information. Input alert information contains position, flux, telescope properties, ... You can find what information is available in an alert [here](https://zwickytransientfacility.github.io/ztf-avro-alert/), or check the current [Fink added values](https://fink-broker.readthedocs.io/en/latest/science/added_values/).\n",
    "\n",
    "In this simple example, we explore a simple science module that takes magnitudes contained in each alert, and computes the change in magnitude between the last two measurements."
   ]
  },
  {
   "cell_type": "code",
   "execution_count": 1,
   "metadata": {},
   "outputs": [],
   "source": [
    "# utility from fink-science\n",
    "from fink_science.utilities import concat_col\n",
    "\n",
    "# user-defined function from the current folder\n",
    "from processor import deltamaglatest"
   ]
  },
  {
   "cell_type": "markdown",
   "metadata": {},
   "source": [
    "## Loading the data\n",
    "\n",
    "Fink receives data as Avro. However, the internal processing makes use of Parquet files. We provide here alert data as Parquet: it contains original alert data from ZTF and some added values from Fink:"
   ]
  },
  {
   "cell_type": "code",
   "execution_count": 2,
   "metadata": {},
   "outputs": [],
   "source": [
    "# Load the data into a Spark DataFrame\n",
    "df = spark.read.format('parquet').load('sample.parquet')"
   ]
  },
  {
   "cell_type": "markdown",
   "metadata": {},
   "source": [
    "You can check what's in the data"
   ]
  },
  {
   "cell_type": "code",
   "execution_count": 3,
   "metadata": {},
   "outputs": [
    {
     "name": "stdout",
     "output_type": "stream",
     "text": [
      "root\n",
      " |-- candid: long (nullable = true)\n",
      " |-- schemavsn: string (nullable = true)\n",
      " |-- publisher: string (nullable = true)\n",
      " |-- objectId: string (nullable = true)\n",
      " |-- candidate: struct (nullable = true)\n",
      " |    |-- jd: double (nullable = true)\n",
      " |    |-- fid: integer (nullable = true)\n",
      " |    |-- pid: long (nullable = true)\n",
      " |    |-- diffmaglim: float (nullable = true)\n",
      " |    |-- pdiffimfilename: string (nullable = true)\n",
      " |    |-- programpi: string (nullable = true)\n",
      " |    |-- programid: integer (nullable = true)\n",
      " |    |-- candid: long (nullable = true)\n",
      " |    |-- isdiffpos: string (nullable = true)\n",
      " |    |-- tblid: long (nullable = true)\n",
      " |    |-- nid: integer (nullable = true)\n",
      " |    |-- rcid: integer (nullable = true)\n",
      " |    |-- field: integer (nullable = true)\n",
      " |    |-- xpos: float (nullable = true)\n",
      " |    |-- ypos: float (nullable = true)\n",
      " |    |-- ra: double (nullable = true)\n",
      " |    |-- dec: double (nullable = true)\n",
      " |    |-- magpsf: float (nullable = true)\n",
      " |    |-- sigmapsf: float (nullable = true)\n",
      " |    |-- chipsf: float (nullable = true)\n",
      " |    |-- magap: float (nullable = true)\n",
      " |    |-- sigmagap: float (nullable = true)\n",
      " |    |-- distnr: float (nullable = true)\n",
      " |    |-- magnr: float (nullable = true)\n",
      " |    |-- sigmagnr: float (nullable = true)\n",
      " |    |-- chinr: float (nullable = true)\n",
      " |    |-- sharpnr: float (nullable = true)\n",
      " |    |-- sky: float (nullable = true)\n",
      " |    |-- magdiff: float (nullable = true)\n",
      " |    |-- fwhm: float (nullable = true)\n",
      " |    |-- classtar: float (nullable = true)\n",
      " |    |-- mindtoedge: float (nullable = true)\n",
      " |    |-- magfromlim: float (nullable = true)\n",
      " |    |-- seeratio: float (nullable = true)\n",
      " |    |-- aimage: float (nullable = true)\n",
      " |    |-- bimage: float (nullable = true)\n",
      " |    |-- aimagerat: float (nullable = true)\n",
      " |    |-- bimagerat: float (nullable = true)\n",
      " |    |-- elong: float (nullable = true)\n",
      " |    |-- nneg: integer (nullable = true)\n",
      " |    |-- nbad: integer (nullable = true)\n",
      " |    |-- rb: float (nullable = true)\n",
      " |    |-- ssdistnr: float (nullable = true)\n",
      " |    |-- ssmagnr: float (nullable = true)\n",
      " |    |-- ssnamenr: string (nullable = true)\n",
      " |    |-- sumrat: float (nullable = true)\n",
      " |    |-- magapbig: float (nullable = true)\n",
      " |    |-- sigmagapbig: float (nullable = true)\n",
      " |    |-- ranr: double (nullable = true)\n",
      " |    |-- decnr: double (nullable = true)\n",
      " |    |-- sgmag1: float (nullable = true)\n",
      " |    |-- srmag1: float (nullable = true)\n",
      " |    |-- simag1: float (nullable = true)\n",
      " |    |-- szmag1: float (nullable = true)\n",
      " |    |-- sgscore1: float (nullable = true)\n",
      " |    |-- distpsnr1: float (nullable = true)\n",
      " |    |-- ndethist: integer (nullable = true)\n",
      " |    |-- ncovhist: integer (nullable = true)\n",
      " |    |-- jdstarthist: double (nullable = true)\n",
      " |    |-- jdendhist: double (nullable = true)\n",
      " |    |-- scorr: double (nullable = true)\n",
      " |    |-- tooflag: integer (nullable = true)\n",
      " |    |-- objectidps1: long (nullable = true)\n",
      " |    |-- objectidps2: long (nullable = true)\n",
      " |    |-- sgmag2: float (nullable = true)\n",
      " |    |-- srmag2: float (nullable = true)\n",
      " |    |-- simag2: float (nullable = true)\n",
      " |    |-- szmag2: float (nullable = true)\n",
      " |    |-- sgscore2: float (nullable = true)\n",
      " |    |-- distpsnr2: float (nullable = true)\n",
      " |    |-- objectidps3: long (nullable = true)\n",
      " |    |-- sgmag3: float (nullable = true)\n",
      " |    |-- srmag3: float (nullable = true)\n",
      " |    |-- simag3: float (nullable = true)\n",
      " |    |-- szmag3: float (nullable = true)\n",
      " |    |-- sgscore3: float (nullable = true)\n",
      " |    |-- distpsnr3: float (nullable = true)\n",
      " |    |-- nmtchps: integer (nullable = true)\n",
      " |    |-- rfid: long (nullable = true)\n",
      " |    |-- jdstartref: double (nullable = true)\n",
      " |    |-- jdendref: double (nullable = true)\n",
      " |    |-- nframesref: integer (nullable = true)\n",
      " |    |-- rbversion: string (nullable = true)\n",
      " |    |-- dsnrms: float (nullable = true)\n",
      " |    |-- ssnrms: float (nullable = true)\n",
      " |    |-- dsdiff: float (nullable = true)\n",
      " |    |-- magzpsci: float (nullable = true)\n",
      " |    |-- magzpsciunc: float (nullable = true)\n",
      " |    |-- magzpscirms: float (nullable = true)\n",
      " |    |-- nmatches: integer (nullable = true)\n",
      " |    |-- clrcoeff: float (nullable = true)\n",
      " |    |-- clrcounc: float (nullable = true)\n",
      " |    |-- zpclrcov: float (nullable = true)\n",
      " |    |-- zpmed: float (nullable = true)\n",
      " |    |-- clrmed: float (nullable = true)\n",
      " |    |-- clrrms: float (nullable = true)\n",
      " |    |-- neargaia: float (nullable = true)\n",
      " |    |-- neargaiabright: float (nullable = true)\n",
      " |    |-- maggaia: float (nullable = true)\n",
      " |    |-- maggaiabright: float (nullable = true)\n",
      " |    |-- exptime: float (nullable = true)\n",
      " |    |-- drb: float (nullable = true)\n",
      " |    |-- drbversion: string (nullable = true)\n",
      " |-- prv_candidates: array (nullable = true)\n",
      " |    |-- element: struct (containsNull = true)\n",
      " |    |    |-- jd: double (nullable = true)\n",
      " |    |    |-- fid: integer (nullable = true)\n",
      " |    |    |-- pid: long (nullable = true)\n",
      " |    |    |-- diffmaglim: float (nullable = true)\n",
      " |    |    |-- pdiffimfilename: string (nullable = true)\n",
      " |    |    |-- programpi: string (nullable = true)\n",
      " |    |    |-- programid: integer (nullable = true)\n",
      " |    |    |-- candid: long (nullable = true)\n",
      " |    |    |-- isdiffpos: string (nullable = true)\n",
      " |    |    |-- tblid: long (nullable = true)\n",
      " |    |    |-- nid: integer (nullable = true)\n",
      " |    |    |-- rcid: integer (nullable = true)\n",
      " |    |    |-- field: integer (nullable = true)\n",
      " |    |    |-- xpos: float (nullable = true)\n",
      " |    |    |-- ypos: float (nullable = true)\n",
      " |    |    |-- ra: double (nullable = true)\n",
      " |    |    |-- dec: double (nullable = true)\n",
      " |    |    |-- magpsf: float (nullable = true)\n",
      " |    |    |-- sigmapsf: float (nullable = true)\n",
      " |    |    |-- chipsf: float (nullable = true)\n",
      " |    |    |-- magap: float (nullable = true)\n",
      " |    |    |-- sigmagap: float (nullable = true)\n",
      " |    |    |-- distnr: float (nullable = true)\n",
      " |    |    |-- magnr: float (nullable = true)\n",
      " |    |    |-- sigmagnr: float (nullable = true)\n",
      " |    |    |-- chinr: float (nullable = true)\n",
      " |    |    |-- sharpnr: float (nullable = true)\n",
      " |    |    |-- sky: float (nullable = true)\n",
      " |    |    |-- magdiff: float (nullable = true)\n",
      " |    |    |-- fwhm: float (nullable = true)\n",
      " |    |    |-- classtar: float (nullable = true)\n",
      " |    |    |-- mindtoedge: float (nullable = true)\n",
      " |    |    |-- magfromlim: float (nullable = true)\n",
      " |    |    |-- seeratio: float (nullable = true)\n",
      " |    |    |-- aimage: float (nullable = true)\n",
      " |    |    |-- bimage: float (nullable = true)\n",
      " |    |    |-- aimagerat: float (nullable = true)\n",
      " |    |    |-- bimagerat: float (nullable = true)\n",
      " |    |    |-- elong: float (nullable = true)\n",
      " |    |    |-- nneg: integer (nullable = true)\n",
      " |    |    |-- nbad: integer (nullable = true)\n",
      " |    |    |-- rb: float (nullable = true)\n",
      " |    |    |-- ssdistnr: float (nullable = true)\n",
      " |    |    |-- ssmagnr: float (nullable = true)\n",
      " |    |    |-- ssnamenr: string (nullable = true)\n",
      " |    |    |-- sumrat: float (nullable = true)\n",
      " |    |    |-- magapbig: float (nullable = true)\n",
      " |    |    |-- sigmagapbig: float (nullable = true)\n",
      " |    |    |-- ranr: double (nullable = true)\n",
      " |    |    |-- decnr: double (nullable = true)\n",
      " |    |    |-- scorr: double (nullable = true)\n",
      " |    |    |-- magzpsci: float (nullable = true)\n",
      " |    |    |-- magzpsciunc: float (nullable = true)\n",
      " |    |    |-- magzpscirms: float (nullable = true)\n",
      " |    |    |-- clrcoeff: float (nullable = true)\n",
      " |    |    |-- clrcounc: float (nullable = true)\n",
      " |    |    |-- rbversion: string (nullable = true)\n",
      " |-- cutoutScience: struct (nullable = true)\n",
      " |    |-- fileName: string (nullable = true)\n",
      " |    |-- stampData: binary (nullable = true)\n",
      " |-- cutoutTemplate: struct (nullable = true)\n",
      " |    |-- fileName: string (nullable = true)\n",
      " |    |-- stampData: binary (nullable = true)\n",
      " |-- cutoutDifference: struct (nullable = true)\n",
      " |    |-- fileName: string (nullable = true)\n",
      " |    |-- stampData: binary (nullable = true)\n",
      " |-- timestamp: timestamp (nullable = true)\n",
      " |-- cdsxmatch: string (nullable = true)\n",
      " |-- rfscore: double (nullable = true)\n",
      " |-- snn_snia_vs_nonia: double (nullable = true)\n",
      " |-- snn_sn_vs_all: double (nullable = true)\n",
      " |-- mulens: struct (nullable = true)\n",
      " |    |-- class_1: string (nullable = true)\n",
      " |    |-- ml_score_1: double (nullable = true)\n",
      " |    |-- class_2: string (nullable = true)\n",
      " |    |-- ml_score_2: double (nullable = true)\n",
      " |-- roid: integer (nullable = true)\n",
      " |-- nalerthist: integer (nullable = true)\n",
      " |-- knscore: double (nullable = true)\n",
      " |-- fink_broker_version: string (nullable = true)\n",
      " |-- fink_science_version: string (nullable = true)\n",
      " |-- tracklet: string (nullable = true)\n",
      "\n"
     ]
    }
   ],
   "source": [
    "df.printSchema()"
   ]
  },
  {
   "cell_type": "markdown",
   "metadata": {},
   "source": [
    "## Calling the science module\n",
    "\n",
    "First, you need to concatenate historical + current measurements for the quantities of interest. Here, we only need `magpsf`. Hence we create a new column to the DataFrame called `cmagpsf` (for _concatenated_ `magpsf`):"
   ]
  },
  {
   "cell_type": "code",
   "execution_count": 4,
   "metadata": {},
   "outputs": [],
   "source": [
    "# Required alert columns\n",
    "what = ['magpsf']\n",
    "\n",
    "# Use for creating temp name\n",
    "prefix = 'c'\n",
    "what_prefix = [prefix + i for i in what]\n",
    "\n",
    "# Concatenate historical + current measurements\n",
    "for colname in what:\n",
    "    df = concat_col(df, colname, prefix=prefix)"
   ]
  },
  {
   "cell_type": "markdown",
   "metadata": {},
   "source": [
    "Let's apply the science module, that is creating a new column to the DataFrame whose values are the change in magnitude between the last 2 measurements. All the user logic is contained in the routine `deltamaglatest` defined in `processor.py`. This routine is a user-defined function that encapsulates the necessary operations, and it can call functions from user-defined modules (here `mymodule.py`) or third-party libraries (e.g. `numpy`, `pandas`, etc). Note that the input arguments of `deltamaglatest` are column names of the DataFrame, and they are materialised as `pd.Series` inside the routine."
   ]
  },
  {
   "cell_type": "code",
   "execution_count": 5,
   "metadata": {},
   "outputs": [
    {
     "name": "stdout",
     "output_type": "stream",
     "text": [
      "+------------+-------------------+--------------------+\n",
      "|    objectId|          cdsxmatch|            deltamag|\n",
      "+------------+-------------------+--------------------+\n",
      "|ZTF18abjrdau|             PulsV*|  0.1650867462158203|\n",
      "|ZTF18abmmrzp|               Star|                null|\n",
      "|ZTF19abjfoad|Candidate_LensSyste|                null|\n",
      "|ZTF18acmwkqr|               RGB*|                null|\n",
      "|ZTF21acqeepb|            Unknown|                null|\n",
      "|ZTF17aaanpdf|       PulsV*delSct|  1.3444271087646484|\n",
      "|ZTF18abadigg|            Cepheid|  0.2772483825683594|\n",
      "|ZTF19aawfxge|                AGN|   -0.25921630859375|\n",
      "|ZTF18aaxypzn|                MIR|                null|\n",
      "|ZTF18abtrvkm|                 SN|                null|\n",
      "|ZTF18acmwkqr|               RGB*|  0.5792255401611328|\n",
      "|ZTF18abjcxoj|                SG*|                null|\n",
      "|ZTF18aaxyyjv|         PulsV*bCep| -0.9435768127441406|\n",
      "|ZTF18abcvdid|             Pulsar|  -0.055511474609375|\n",
      "|ZTF17aaabqqd|                 V*|                null|\n",
      "|ZTF18aazuljr|         Symbiotic*|                null|\n",
      "|ZTF18abnxbyb|              BLLac|                null|\n",
      "|ZTF18acgdrsy|            brownD*|                null|\n",
      "|ZTF18aaqfhlj|        HotSubdwarf|-0.10297966003417969|\n",
      "|ZTF18aazuljr|            Unknown| -1.4648609161376953|\n",
      "+------------+-------------------+--------------------+\n",
      "only showing top 20 rows\n",
      "\n"
     ]
    }
   ],
   "source": [
    "df_change = df.withColumn('deltamag', deltamaglatest('cmagpsf'))\n",
    "\n",
    "# print the result for the 20 first alerts\n",
    "df_change.select(['objectId', 'cdsxmatch', 'deltamag']).show()"
   ]
  },
  {
   "cell_type": "markdown",
   "metadata": {},
   "source": [
    "We can also quickly check some statistics on this new column:"
   ]
  },
  {
   "cell_type": "code",
   "execution_count": 6,
   "metadata": {},
   "outputs": [
    {
     "name": "stdout",
     "output_type": "stream",
     "text": [
      "+-------+-------------------+\n",
      "|summary|           deltamag|\n",
      "+-------+-------------------+\n",
      "|  count|                176|\n",
      "|   mean|0.09352213686162775|\n",
      "| stddev| 0.9564824046920042|\n",
      "|    min| -2.828317642211914|\n",
      "|    max| 3.4397459030151367|\n",
      "+-------+-------------------+\n",
      "\n"
     ]
    }
   ],
   "source": [
    "df_change.select('deltamag').describe().show()"
   ]
  },
  {
   "cell_type": "markdown",
   "metadata": {},
   "source": [
    "Et voilà! Of course, this science module is extremely simple - but the logic remains the same for more complex cases!"
   ]
  }
 ],
 "metadata": {
  "kernelspec": {
   "display_name": "Python 3",
   "language": "python",
   "name": "python3"
  },
  "language_info": {
   "codemirror_mode": {
    "name": "ipython",
    "version": 3
   },
   "file_extension": ".py",
   "mimetype": "text/x-python",
   "name": "python",
   "nbconvert_exporter": "python",
   "pygments_lexer": "ipython3",
   "version": "3.7.11"
  }
 },
 "nbformat": 4,
 "nbformat_minor": 2
}
